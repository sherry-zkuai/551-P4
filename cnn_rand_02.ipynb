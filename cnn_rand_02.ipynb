{
  "nbformat": 4,
  "nbformat_minor": 0,
  "metadata": {
    "colab": {
      "name": "cnn-rand_02.ipynb",
      "version": "0.3.2",
      "provenance": [],
      "collapsed_sections": []
    },
    "language_info": {
      "codemirror_mode": {
        "name": "ipython",
        "version": 3
      },
      "file_extension": ".py",
      "mimetype": "text/x-python",
      "name": "python",
      "nbconvert_exporter": "python",
      "pygments_lexer": "ipython3",
      "version": "3.6.4"
    },
    "kernelspec": {
      "name": "python3",
      "display_name": "Python 3"
    },
    "accelerator": "TPU"
  },
  "cells": [
    {
      "metadata": {
        "colab_type": "code",
        "id": "tY_UaVjg5vtc",
        "colab": {}
      },
      "cell_type": "code",
      "source": [
        "import numpy as np\n",
        "import os\n",
        "\n",
        "from keras.models import Sequential, Model\n",
        "from keras.layers import Dense, Dropout, Flatten, Input, MaxPooling1D, Convolution1D, Embedding\n",
        "from keras.layers.merge import Concatenate\n",
        "from keras.datasets import imdb\n",
        "from keras.preprocessing import sequence\n",
        "from keras.optimizers import Adam\n",
        "import keras as keras\n",
        "\n",
        "import re\n",
        "import itertools\n",
        "from collections import Counter\n",
        "\n",
        "import tensorflow as tf\n",
        "\n",
        "np.random.seed(0)"
      ],
      "execution_count": 0,
      "outputs": []
    },
    {
      "metadata": {
        "colab_type": "code",
        "id": "djzcmbGPFWnr",
        "colab": {}
      },
      "cell_type": "code",
      "source": [
        "def clean_Up(string):\n",
        "    \"\"\"\n",
        "    Tokenization/string cleaning for all datasets except for SST.\n",
        "    Original taken from https://github.com/yoonkim/CNN_sentence/blob/master/process_data.py\n",
        "    \"\"\"\n",
        "    string = re.sub(r\"[^A-Za-z0-9(),!?\\'\\`]\", \" \", string)\n",
        "    string = re.sub(r\"\\'s\", \" \\'s\", string)\n",
        "    string = re.sub(r\"\\'ve\", \" \\'ve\", string)\n",
        "    string = re.sub(r\"n\\'t\", \" n\\'t\", string)\n",
        "    string = re.sub(r\"\\'re\", \" \\'re\", string)\n",
        "    string = re.sub(r\"\\'d\", \" \\'d\", string)\n",
        "    string = re.sub(r\"\\'ll\", \" \\'ll\", string)\n",
        "    string = re.sub(r\",\", \" , \", string)\n",
        "    string = re.sub(r\"!\", \" ! \", string)\n",
        "    string = re.sub(r\"\\(\", \" \\( \", string)\n",
        "    string = re.sub(r\"\\)\", \" \\) \", string)\n",
        "    string = re.sub(r\"\\?\", \" \\? \", string)\n",
        "    string = re.sub(r\"\\s{2,}\", \" \", string)\n",
        "    return string.strip().lower()\n",
        "\n",
        "\n",
        "def load_data():\n",
        "    # Load data from files\n",
        "    positive_examples = list(open(\"/rt-polarity.pos\", encoding='latin-1').readlines())\n",
        "    positive_examples = [s.strip() for s in positive_examples]\n",
        "    negative_examples = list(open(\"/rt-polarity.neg\", encoding='latin-1').readlines())\n",
        "    negative_examples = [s.strip() for s in negative_examples]\n",
        "    # Split by words\n",
        "    x_text = positive_examples + negative_examples\n",
        "    x_text = [clean_Up(sent) for sent in x_text]\n",
        "    x_text = [s.split(\" \") for s in x_text]\n",
        "    # Generate labels\n",
        "    positive_labels = [[0, 1] for _ in positive_examples]\n",
        "    negative_labels = [[1, 0] for _ in negative_examples]\n",
        "    y = np.concatenate([positive_labels, negative_labels], 0)\n",
        "    return [x_text, y]\n",
        "\n",
        "\n",
        "def pad_sentences(sentences, padding_word=\"<PAD/>\"):\n",
        "    # pad sentences to the longest sentence's size\n",
        "    sequence_length = max(len(x) for x in sentences)\n",
        "    padded_sentences = []\n",
        "    for i in range(0,len(sentences)):\n",
        "        sentence = sentences[i]\n",
        "        num_padding = sequence_length - len(sentence)\n",
        "        new_sentence = sentence + [padding_word] * num_padding\n",
        "        padded_sentences.append(new_sentence)\n",
        "    return padded_sentences\n",
        "\n",
        "\n",
        "def build_vocab(sentences):\n",
        "    # Build vocabulary\n",
        "    word_counts = Counter(itertools.chain(*sentences))\n",
        "    # Mapping from index to word\n",
        "    vocabulary_inv = [x[0] for x in word_counts.most_common()]\n",
        "    # Mapping from word to index\n",
        "    vocabulary = {x: i for i, x in enumerate(vocabulary_inv)}\n",
        "    return [vocabulary, vocabulary_inv]\n",
        "\n",
        "\n",
        "def build_input_data(sentences, labels, vocabulary):\n",
        "    x = np.array([[vocabulary[word] for word in sentence] for sentence in sentences])\n",
        "    y = np.array(labels)\n",
        "    return [x, y]\n",
        "\n",
        "\n",
        "def load_preprocess_data():\n",
        "    # Load and preprocess data\n",
        "    sentences, labels = load_data()\n",
        "    sentences_padded = pad_sentences(sentences)\n",
        "    vocabulary, vocabulary_inv = build_vocab(sentences_padded)\n",
        "    x, y = build_input_data(sentences_padded, labels, vocabulary)\n",
        "    return [x, y, vocabulary, vocabulary_inv]\n",
        "\n",
        "\n",
        "def batch_iter(data, batch_size, num_epochs):\n",
        "    data = np.array(data)\n",
        "    data_size = len(data)\n",
        "    num_batches_per_epoch = int(len(data) / batch_size) + 1\n",
        "    for epoch in range(num_epochs):\n",
        "        # Shuffle the data at each epoch\n",
        "        shuffle_indices = np.random.permutation(np.arange(data_size))\n",
        "        shuffled_data = data[shuffle_indices]\n",
        "        for batch_num in range(0,num_batches_per_epoch):\n",
        "            start_index = batch_num * batch_size\n",
        "            end_index = min((batch_num + 1) * batch_size, data_size)\n",
        "            yield shuffled_data[start_index:end_index]"
      ],
      "execution_count": 0,
      "outputs": []
    },
    {
      "metadata": {
        "colab_type": "code",
        "id": "H9rcV4VQ6ImL",
        "colab": {}
      },
      "cell_type": "code",
      "source": [
        "# Model Hyperparameters\n",
        "embedding_dim = 50\n",
        "filter_sizes = (3,4,5)\n",
        "num_filters = 10\n",
        "dropout_prob = (0.5, 0.8)\n",
        "hidden_dims = 50\n",
        "\n",
        "# Training parameters\n",
        "batch_size = 50\n",
        "num_epochs = 50\n",
        "\n",
        "# Prepossessing parameters\n",
        "sequence_length = 400\n",
        "max_words = 5000"
      ],
      "execution_count": 0,
      "outputs": []
    },
    {
      "metadata": {
        "colab_type": "code",
        "id": "_8tf7UZj6Iso",
        "colab": {}
      },
      "cell_type": "code",
      "source": [
        "def process_data():\n",
        "    x, y, vocabulary, vocabulary_inv_list = load_preprocess_data()\n",
        "    vocabulary_inv = {key: value for key, value in enumerate(vocabulary_inv_list)}\n",
        "    y = y.argmax(axis=1)\n",
        "\n",
        "    # Shuffle data\n",
        "    shuffle_indices = np.random.permutation(np.arange(len(y)))\n",
        "    x = x[shuffle_indices]\n",
        "    y = y[shuffle_indices]\n",
        "    train_len = int(len(x) * 0.9)\n",
        "    x_train = x[:train_len]\n",
        "    y_train = y[:train_len]\n",
        "    x_test = x[train_len:]\n",
        "    y_test = y[train_len:]\n",
        "\n",
        "    return x_train, y_train, x_test, y_test, vocabulary_inv"
      ],
      "execution_count": 0,
      "outputs": []
    },
    {
      "metadata": {
        "colab_type": "code",
        "id": "atAfwQrt6Iz3",
        "outputId": "db478e4b-695c-4730-d734-89bfc9f18080",
        "colab": {
          "base_uri": "https://localhost:8080/",
          "height": 102
        }
      },
      "cell_type": "code",
      "source": [
        "# Data Preparation\n",
        "print(\"Load data...\")\n",
        "x_train, y_train, x_test, y_test, vocabulary_inv = process_data()\n",
        "\n",
        "if sequence_length != x_test.shape[1]:\n",
        "    print(\"Adjusting sequence length for actual size\")\n",
        "    sequence_length = x_test.shape[1]\n",
        "\n",
        "print(\"x_train shape:\", x_train.shape)\n",
        "print(\"x_test shape:\", x_test.shape)\n",
        "print(\"Vocabulary Size: {:d}\".format(len(vocabulary_inv)))\n",
        "\n",
        "embedding_weights = None"
      ],
      "execution_count": 22,
      "outputs": [
        {
          "output_type": "stream",
          "text": [
            "Load data...\n",
            "Adjusting sequence length for actual size\n",
            "x_train shape: (9595, 56)\n",
            "x_test shape: (1067, 56)\n",
            "Vocabulary Size: 18765\n"
          ],
          "name": "stdout"
        }
      ]
    },
    {
      "metadata": {
        "colab_type": "code",
        "id": "Ixxpb2WX6VSZ",
        "colab": {}
      },
      "cell_type": "code",
      "source": [
        "input_shape = (sequence_length,)\n",
        "\n",
        "model_input = Input(shape=input_shape)\n",
        "\n",
        "z = Embedding(len(vocabulary_inv), embedding_dim, input_length=sequence_length, name=\"embedding\")(model_input)\n",
        "\n",
        "z = Dropout(dropout_prob[0])(z)\n"
      ],
      "execution_count": 0,
      "outputs": []
    },
    {
      "metadata": {
        "colab_type": "code",
        "id": "78Y-YICh6VUy",
        "colab": {}
      },
      "cell_type": "code",
      "source": [
        "# Convolutional block\n",
        "conv_blocks = []\n",
        "for sz in filter_sizes:\n",
        "    conv = Convolution1D(filters=num_filters,\n",
        "                         kernel_size=sz,\n",
        "                         padding=\"valid\",\n",
        "                         activation=\"relu\",\n",
        "                         strides=1)(z)\n",
        "    conv = MaxPooling1D(pool_size=2)(conv)\n",
        "    conv = Flatten()(conv)\n",
        "    conv_blocks.append(conv)\n",
        "z = Concatenate()(conv_blocks) if len(conv_blocks) > 1 else conv_blocks[0]\n",
        "\n",
        "z = Dropout(dropout_prob[1])(z)\n",
        "z = Dense(hidden_dims, activation=\"relu\")(z)\n",
        "model_output = Dense(1, activation=\"sigmoid\")(z)\n",
        "\n",
        "step = tf.Variable(0, trainable=False)\n",
        "# rate = tf.train.exponential_decay(0.001, step, 100000, 0.01) # tuning for learning rate, decay\n",
        "opt = keras.optimizers.Adam(lr=0.01,decay=0.055)\n",
        "\n",
        "model = Model(model_input, model_output)\n",
        "model.compile(loss=\"binary_crossentropy\", optimizer=opt, metrics=[\"accuracy\"])"
      ],
      "execution_count": 0,
      "outputs": []
    },
    {
      "metadata": {
        "colab_type": "code",
        "id": "LO9tEhnp6VXK",
        "colab": {}
      },
      "cell_type": "code",
      "source": [
        ""
      ],
      "execution_count": 0,
      "outputs": []
    },
    {
      "metadata": {
        "colab_type": "code",
        "id": "MSt0V4x36VZt",
        "outputId": "ac488af4-187e-4737-c343-c2da937852fc",
        "colab": {
          "base_uri": "https://localhost:8080/",
          "height": 1751
        }
      },
      "cell_type": "code",
      "source": [
        "# Train the model\n",
        "import time\n",
        "start=time.time()\n",
        "history=model.fit(x_train, y_train, batch_size=batch_size, epochs=num_epochs,\n",
        "          validation_data=(x_test, y_test), verbose=2)\n",
        "print(\"Modified CNN-rand runtime: \", time.time()-start)"
      ],
      "execution_count": 25,
      "outputs": [
        {
          "output_type": "stream",
          "text": [
            "Train on 9595 samples, validate on 1067 samples\n",
            "Epoch 1/50\n",
            " - 7s - loss: 0.6951 - acc: 0.5096 - val_loss: 0.6923 - val_acc: 0.5623\n",
            "Epoch 2/50\n",
            " - 6s - loss: 0.6872 - acc: 0.5448 - val_loss: 0.6832 - val_acc: 0.6401\n",
            "Epoch 3/50\n",
            " - 6s - loss: 0.6695 - acc: 0.5933 - val_loss: 0.6538 - val_acc: 0.6973\n",
            "Epoch 4/50\n",
            " - 6s - loss: 0.6364 - acc: 0.6464 - val_loss: 0.6105 - val_acc: 0.7095\n",
            "Epoch 5/50\n",
            " - 6s - loss: 0.5896 - acc: 0.6938 - val_loss: 0.5696 - val_acc: 0.7413\n",
            "Epoch 6/50\n",
            " - 6s - loss: 0.5348 - acc: 0.7393 - val_loss: 0.5389 - val_acc: 0.7498\n",
            "Epoch 7/50\n",
            " - 6s - loss: 0.5010 - acc: 0.7624 - val_loss: 0.5209 - val_acc: 0.7619\n",
            "Epoch 8/50\n",
            " - 6s - loss: 0.4698 - acc: 0.7789 - val_loss: 0.5095 - val_acc: 0.7685\n",
            "Epoch 9/50\n",
            " - 6s - loss: 0.4478 - acc: 0.7958 - val_loss: 0.5032 - val_acc: 0.7666\n",
            "Epoch 10/50\n",
            " - 6s - loss: 0.4248 - acc: 0.8076 - val_loss: 0.4978 - val_acc: 0.7835\n",
            "Epoch 11/50\n",
            " - 6s - loss: 0.3937 - acc: 0.8269 - val_loss: 0.4940 - val_acc: 0.7826\n",
            "Epoch 12/50\n",
            " - 6s - loss: 0.3895 - acc: 0.8300 - val_loss: 0.4931 - val_acc: 0.7751\n",
            "Epoch 13/50\n",
            " - 6s - loss: 0.3687 - acc: 0.8370 - val_loss: 0.4911 - val_acc: 0.7826\n",
            "Epoch 14/50\n",
            " - 6s - loss: 0.3566 - acc: 0.8453 - val_loss: 0.4909 - val_acc: 0.7854\n",
            "Epoch 15/50\n",
            " - 6s - loss: 0.3559 - acc: 0.8463 - val_loss: 0.4895 - val_acc: 0.7882\n",
            "Epoch 16/50\n",
            " - 6s - loss: 0.3450 - acc: 0.8529 - val_loss: 0.4897 - val_acc: 0.7891\n",
            "Epoch 17/50\n",
            " - 6s - loss: 0.3380 - acc: 0.8546 - val_loss: 0.4890 - val_acc: 0.7891\n",
            "Epoch 18/50\n",
            " - 6s - loss: 0.3309 - acc: 0.8574 - val_loss: 0.4886 - val_acc: 0.7948\n",
            "Epoch 19/50\n",
            " - 6s - loss: 0.3218 - acc: 0.8632 - val_loss: 0.4886 - val_acc: 0.7948\n",
            "Epoch 20/50\n",
            " - 6s - loss: 0.3146 - acc: 0.8697 - val_loss: 0.4911 - val_acc: 0.7948\n",
            "Epoch 21/50\n",
            " - 6s - loss: 0.3135 - acc: 0.8656 - val_loss: 0.4898 - val_acc: 0.7976\n",
            "Epoch 22/50\n",
            " - 6s - loss: 0.3055 - acc: 0.8718 - val_loss: 0.4903 - val_acc: 0.7976\n",
            "Epoch 23/50\n",
            " - 6s - loss: 0.3100 - acc: 0.8712 - val_loss: 0.4894 - val_acc: 0.7985\n",
            "Epoch 24/50\n",
            " - 6s - loss: 0.2917 - acc: 0.8790 - val_loss: 0.4907 - val_acc: 0.7966\n",
            "Epoch 25/50\n",
            " - 6s - loss: 0.2937 - acc: 0.8806 - val_loss: 0.4914 - val_acc: 0.7994\n",
            "Epoch 26/50\n",
            " - 6s - loss: 0.2894 - acc: 0.8803 - val_loss: 0.4928 - val_acc: 0.7929\n",
            "Epoch 27/50\n",
            " - 6s - loss: 0.2834 - acc: 0.8858 - val_loss: 0.4930 - val_acc: 0.7929\n",
            "Epoch 28/50\n",
            " - 6s - loss: 0.2841 - acc: 0.8836 - val_loss: 0.4955 - val_acc: 0.7901\n",
            "Epoch 29/50\n",
            " - 6s - loss: 0.2852 - acc: 0.8839 - val_loss: 0.4945 - val_acc: 0.7938\n",
            "Epoch 30/50\n",
            " - 6s - loss: 0.2756 - acc: 0.8859 - val_loss: 0.4932 - val_acc: 0.8032\n",
            "Epoch 31/50\n",
            " - 6s - loss: 0.2749 - acc: 0.8887 - val_loss: 0.4937 - val_acc: 0.7994\n",
            "Epoch 32/50\n",
            " - 6s - loss: 0.2713 - acc: 0.8915 - val_loss: 0.4956 - val_acc: 0.7948\n",
            "Epoch 33/50\n",
            " - 6s - loss: 0.2642 - acc: 0.8895 - val_loss: 0.4954 - val_acc: 0.7966\n",
            "Epoch 34/50\n",
            " - 6s - loss: 0.2644 - acc: 0.8908 - val_loss: 0.4955 - val_acc: 0.7994\n",
            "Epoch 35/50\n",
            " - 6s - loss: 0.2698 - acc: 0.8910 - val_loss: 0.4957 - val_acc: 0.8013\n",
            "Epoch 36/50\n",
            " - 6s - loss: 0.2564 - acc: 0.8963 - val_loss: 0.4960 - val_acc: 0.8013\n",
            "Epoch 37/50\n",
            " - 6s - loss: 0.2607 - acc: 0.8939 - val_loss: 0.4976 - val_acc: 0.7976\n",
            "Epoch 38/50\n",
            " - 6s - loss: 0.2517 - acc: 0.8998 - val_loss: 0.4973 - val_acc: 0.8013\n",
            "Epoch 39/50\n",
            " - 7s - loss: 0.2489 - acc: 0.8983 - val_loss: 0.4992 - val_acc: 0.7994\n",
            "Epoch 40/50\n",
            " - 6s - loss: 0.2467 - acc: 0.9013 - val_loss: 0.4993 - val_acc: 0.8004\n",
            "Epoch 41/50\n",
            " - 6s - loss: 0.2461 - acc: 0.9033 - val_loss: 0.5005 - val_acc: 0.7994\n",
            "Epoch 42/50\n",
            " - 6s - loss: 0.2454 - acc: 0.9006 - val_loss: 0.5022 - val_acc: 0.7976\n",
            "Epoch 43/50\n",
            " - 6s - loss: 0.2413 - acc: 0.9026 - val_loss: 0.5040 - val_acc: 0.7994\n",
            "Epoch 44/50\n",
            " - 6s - loss: 0.2407 - acc: 0.9031 - val_loss: 0.5026 - val_acc: 0.8013\n",
            "Epoch 45/50\n",
            " - 6s - loss: 0.2335 - acc: 0.9097 - val_loss: 0.5054 - val_acc: 0.8004\n",
            "Epoch 46/50\n",
            " - 6s - loss: 0.2345 - acc: 0.9034 - val_loss: 0.5048 - val_acc: 0.7994\n",
            "Epoch 47/50\n",
            " - 6s - loss: 0.2351 - acc: 0.9070 - val_loss: 0.5068 - val_acc: 0.8013\n",
            "Epoch 48/50\n",
            " - 6s - loss: 0.2400 - acc: 0.9052 - val_loss: 0.5066 - val_acc: 0.8041\n",
            "Epoch 49/50\n",
            " - 6s - loss: 0.2363 - acc: 0.9029 - val_loss: 0.5072 - val_acc: 0.8013\n",
            "Epoch 50/50\n",
            " - 6s - loss: 0.2250 - acc: 0.9115 - val_loss: 0.5078 - val_acc: 0.8004\n",
            "Modified CNN-rand runtime:  305.32007360458374\n"
          ],
          "name": "stdout"
        }
      ]
    },
    {
      "metadata": {
        "colab_type": "code",
        "id": "o1MIEF-A8wzZ",
        "colab": {}
      },
      "cell_type": "code",
      "source": [
        "train_loss=history.history['loss']\n",
        "val_loss=history.history['val_loss']"
      ],
      "execution_count": 0,
      "outputs": []
    },
    {
      "metadata": {
        "colab_type": "code",
        "id": "x1vVUc-S8w7k",
        "colab": {}
      },
      "cell_type": "code",
      "source": [
        "train_acc=history.history['acc']\n",
        "val_acc=history.history['val_acc']"
      ],
      "execution_count": 0,
      "outputs": []
    },
    {
      "metadata": {
        "colab_type": "code",
        "id": "BRcPazwc8w-p",
        "colab": {
          "base_uri": "https://localhost:8080/",
          "height": 367
        },
        "outputId": "0f1a3f12-fd6c-417a-98e9-7881c08c0081"
      },
      "cell_type": "code",
      "source": [
        "import matplotlib.pyplot as plt\n",
        "plt.figure(figsize=(15, 5))\n",
        "plt.subplot(1,2,1)\n",
        "plt.title(\"Learning Curve\")\n",
        "plt.xlabel(\"Epochs\")\n",
        "plt.ylabel(\"Loss\")\n",
        "plt.plot(train_loss,label=\"train_loss\")\n",
        "plt.plot(val_loss,label=\"val_loss\")\n",
        "plt.legend(loc=1)\n",
        "\n",
        "plt.subplot(1,2,2)\n",
        "plt.title(\"Accuracy\")\n",
        "plt.xlabel(\"Epochs\")\n",
        "plt.ylabel(\"Accuracy\")\n",
        "plt.plot(train_acc,label=\"train_acc\")\n",
        "plt.plot(val_acc,label=\"val_acc\")\n",
        "plt.legend(loc=1)"
      ],
      "execution_count": 28,
      "outputs": [
        {
          "output_type": "execute_result",
          "data": {
            "text/plain": [
              "<matplotlib.legend.Legend at 0x7f8b7a34a208>"
            ]
          },
          "metadata": {
            "tags": []
          },
          "execution_count": 28
        },
        {
          "output_type": "display_data",
          "data": {
            "image/png": "[encoded data removed]",
            "text/plain": [
              "<Figure size 1080x360 with 2 Axes>"
            ]
          },
          "metadata": {
            "tags": []
          }
        }
      ]
    },
    {
      "metadata": {
        "id": "SvMRBdTee2wI",
        "colab_type": "code",
        "colab": {}
      },
      "cell_type": "code",
      "source": [
        "from keras.utils.vis_utils import plot_model\n",
        "plot_model(model, to_file='model.png', show_shapes='true')"
      ],
      "execution_count": 0,
      "outputs": []
    }
  ]
}